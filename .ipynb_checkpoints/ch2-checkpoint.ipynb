{
 "cells": [
  {
   "cell_type": "markdown",
   "metadata": {},
   "source": [
    "# パーセプトロン"
   ]
  },
  {
   "cell_type": "code",
   "execution_count": 9,
   "metadata": {},
   "outputs": [],
   "source": [
    "# AND関数\n",
    "def AND(x1, x2):\n",
    "    w1, w2, theta = 0.5, 0.5, 0.7\n",
    "    tmp = x1 * w1 + x2 * w2\n",
    "    if tmp <= theta:\n",
    "        return 0\n",
    "    elif tmp > theta:\n",
    "        return 1"
   ]
  },
  {
   "cell_type": "code",
   "execution_count": 10,
   "metadata": {},
   "outputs": [
    {
     "name": "stdout",
     "output_type": "stream",
     "text": [
      "0 AND 0 実際の出力:0\n",
      "1 AND 0 実際の出力:0\n",
      "0 AND 1 実際の出力:0\n",
      "1 AND 1 実際の出力:1\n"
     ]
    }
   ],
   "source": [
    "print(\"0 AND 0 実際の出力:{0}\".format(AND(0, 0)))\n",
    "print(\"1 AND 0 実際の出力:{0}\".format(AND(1, 0)))\n",
    "print(\"0 AND 1 実際の出力:{0}\".format(AND(0, 1)))\n",
    "print(\"1 AND 1 実際の出力:{0}\".format(AND(1, 1)))"
   ]
  },
  {
   "cell_type": "code",
   "execution_count": 11,
   "metadata": {},
   "outputs": [
    {
     "name": "stdout",
     "output_type": "stream",
     "text": [
      "w * x = [ 0.   0.5]\n",
      "np.sum(w * x) + b = -0.19999999999999996\n"
     ]
    }
   ],
   "source": [
    "# 重みとバイアスを導入\n",
    "import numpy as np\n",
    "# 入力\n",
    "x = np.array([0, 1])\n",
    "# 重み(ウエイト)\n",
    "w = np.array([0.5, 0.5])\n",
    "# バイアス\n",
    "b = -0.7\n",
    "print(\"w * x = {0}\".format(w * x))\n",
    "print(\"np.sum(w * x) + b = {0}\".format(np.sum(w * x) + b))"
   ]
  },
  {
   "cell_type": "code",
   "execution_count": 15,
   "metadata": {},
   "outputs": [],
   "source": [
    "# 重みとバイアスを導入したAND関数\n",
    "# 重みは入力信号への重要度をコントロールするパラメータとして機能\n",
    "# バイアスは出力信号が1を出力する度合いを調整するパラメータとして機能\n",
    "def AND(x1, x2):\n",
    "    x = np.array([x1, x2])\n",
    "    w = np.array([0.5, 0.5])\n",
    "    b = -0.7\n",
    "    tmp = np.sum(w * x) + b\n",
    "    if tmp <= 0:\n",
    "        return 0\n",
    "    else:\n",
    "        return 1"
   ]
  },
  {
   "cell_type": "code",
   "execution_count": 16,
   "metadata": {},
   "outputs": [],
   "source": [
    "# NAND関数(Not AND関数)\n",
    "def NAND(x1, x2):\n",
    "    x = np.array([x1, x2])\n",
    "    # ↓ANDと違う\n",
    "    w = np.array([-0.5, -0.5])\n",
    "    b = 0.7\n",
    "    # ↑ANDと違う\n",
    "    tmp = np.sum(w * x) + b\n",
    "    if tmp <= 0:\n",
    "        return 0\n",
    "    else:\n",
    "        return 1"
   ]
  },
  {
   "cell_type": "code",
   "execution_count": 17,
   "metadata": {},
   "outputs": [],
   "source": [
    "# OR関数\n",
    "def OR(x1, x2):\n",
    "    x = np.array([x1, x2])\n",
    "    # ↓ANDと違う\n",
    "    w = np.array([0.5, 0.5])\n",
    "    b = -0.2\n",
    "    # ↑ANDと違う\n",
    "    tmp = np.sum(w * x) + b\n",
    "    if tmp <= 0:\n",
    "        return 0\n",
    "    else:\n",
    "        return 1"
   ]
  },
  {
   "cell_type": "code",
   "execution_count": 18,
   "metadata": {},
   "outputs": [],
   "source": [
    "# XOR関数\n",
    "def XOR(x1, x2):\n",
    "    s1 = NAND(x1, x2)\n",
    "    s2 = OR(x1, x2)\n",
    "    y = AND(s1, s2)\n",
    "    return y"
   ]
  },
  {
   "cell_type": "code",
   "execution_count": 19,
   "metadata": {},
   "outputs": [
    {
     "name": "stdout",
     "output_type": "stream",
     "text": [
      "0 XOR 0 出力:0\n",
      "1 XOR 0 出力:1\n",
      "0 XOR 1 出力:1\n",
      "1 XOR 1 出力:0\n"
     ]
    }
   ],
   "source": [
    "print(\"0 XOR 0 出力:{0}\".format(XOR(0, 0)))\n",
    "print(\"1 XOR 0 出力:{0}\".format(XOR(1, 0)))\n",
    "print(\"0 XOR 1 出力:{0}\".format(XOR(0, 1)))\n",
    "print(\"1 XOR 1 出力:{0}\".format(XOR(1, 1)))"
   ]
  },
  {
   "cell_type": "code",
   "execution_count": null,
   "metadata": {},
   "outputs": [],
   "source": []
  }
 ],
 "metadata": {
  "kernelspec": {
   "display_name": "Python 3",
   "language": "python",
   "name": "python3"
  },
  "language_info": {
   "codemirror_mode": {
    "name": "ipython",
    "version": 3
   },
   "file_extension": ".py",
   "mimetype": "text/x-python",
   "name": "python",
   "nbconvert_exporter": "python",
   "pygments_lexer": "ipython3",
   "version": "3.6.3"
  }
 },
 "nbformat": 4,
 "nbformat_minor": 2
}
